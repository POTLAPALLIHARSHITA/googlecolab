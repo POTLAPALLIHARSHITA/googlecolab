{
  "nbformat": 4,
  "nbformat_minor": 0,
  "metadata": {
    "colab": {
      "provenance": [],
      "authorship_tag": "ABX9TyMnXQFuEt1Wr54MOBW7pu4D",
      "include_colab_link": true
    },
    "kernelspec": {
      "name": "python3",
      "display_name": "Python 3"
    },
    "language_info": {
      "name": "python"
    }
  },
  "cells": [
    {
      "cell_type": "markdown",
      "metadata": {
        "id": "view-in-github",
        "colab_type": "text"
      },
      "source": [
        "<a href=\"https://colab.research.google.com/github/POTLAPALLIHARSHITA/googlecolab/blob/main/Untitled3.ipynb\" target=\"_parent\"><img src=\"https://colab.research.google.com/assets/colab-badge.svg\" alt=\"Open In Colab\"/></a>"
      ]
    },
    {
      "cell_type": "code",
      "execution_count": 6,
      "metadata": {
        "colab": {
          "base_uri": "https://localhost:8080/"
        },
        "id": "iiCobZ5PxlTT",
        "outputId": "be93a929-392f-416c-feab-76ae40fe984b"
      },
      "outputs": [
        {
          "output_type": "stream",
          "name": "stdout",
          "text": [
            "Enter number of rows: 3\n",
            "Enter number of column: 3\n",
            "\n",
            "Enter values for matrix A\n",
            "column 1 -> ENter 1 element:1\n",
            "column 2 -> ENter 1 element:3\n",
            "column 3 -> ENter 1 element:5\n",
            "column 1 -> ENter 2 element:4\n",
            "column 2 -> ENter 2 element:3\n",
            "column 3 -> ENter 2 element:4\n",
            "column 1 -> ENter 3 element:7\n",
            "column 2 -> ENter 3 element:5\n",
            "column 3 -> ENter 3 element:3\n",
            "\n",
            "Enter values for matrix B \n",
            "column 1 -> ENter 1 element:3\n",
            "column 2 -> ENter 1 element:4\n",
            "column 3 -> ENter 1 element:2\n",
            "column 1 -> ENter 2 element:6\n",
            "column 2 -> ENter 2 element:5\n",
            "column 3 -> ENter 2 element:3\n",
            "column 1 -> ENter 3 element:4\n",
            "column 2 -> ENter 3 element:7\n",
            "column 3 -> ENter 3 element:7\n",
            "\n",
            "Matrix-A :\n",
            "[1, 3, 5]\n",
            "[4, 3, 4]\n",
            "[7, 5, 3]\n",
            "\n",
            "Matrix-B :\n",
            "[3, 4, 2]\n",
            "[6, 5, 3]\n",
            "[4, 7, 7]\n",
            "\n",
            "Addition of Matrix-A and Matrix-B is :\n",
            "[4, 7, 7]\n",
            "[10, 8, 7]\n",
            "[11, 12, 10]\n"
          ]
        }
      ],
      "source": [
        "rows = int(input('Enter number of rows: '))\n",
        "cols  = int(input('Enter number of column: '))\n",
        "print()\n",
        "print('Enter values for matrix A')\n",
        "matrix_A = [[int(input(f\"column {j+1} -> ENter {i+1} element:\")) for j in range(cols)] for i in range(rows) ]\n",
        "print()\n",
        "print('Enter values for matrix B ')\n",
        "matrix_B = [[int(input(f\"column {j+1} -> ENter {i+1} element:\")) for j in range(cols)] for i in range(rows) ]\n",
        "print()\n",
        "print('Matrix-A :')\n",
        "for i in matrix_A:\n",
        "    print(i)\n",
        "print()\n",
        "print('Matrix-B :')\n",
        "for i in matrix_B:\n",
        "    print(i)\n",
        "result = [[0 for j in range(cols)] for i in range(rows)]\n",
        "for i in range(rows):\n",
        "    for j in range(cols):\n",
        "        result[i][j] = matrix_A[i][j] + matrix_B[i][j]\n",
        "print()\n",
        "print('Addition of Matrix-A and Matrix-B is :')\n",
        "for i in result:\n",
        "    print(i)"
      ]
    }
  ]
}